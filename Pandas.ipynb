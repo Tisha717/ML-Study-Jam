{
  "nbformat": 4,
  "nbformat_minor": 0,
  "metadata": {
    "colab": {
      "provenance": [],
      "authorship_tag": "ABX9TyOvvbLpuP2wk83o2FzPdbVm",
      "include_colab_link": true
    },
    "kernelspec": {
      "name": "python3",
      "display_name": "Python 3"
    },
    "language_info": {
      "name": "python"
    }
  },
  "cells": [
    {
      "cell_type": "markdown",
      "metadata": {
        "id": "view-in-github",
        "colab_type": "text"
      },
      "source": [
        "<a href=\"https://colab.research.google.com/github/Tisha717/ML-Study-Jam/blob/main/Pandas.ipynb\" target=\"_parent\"><img src=\"https://colab.research.google.com/assets/colab-badge.svg\" alt=\"Open In Colab\"/></a>"
      ]
    },
    {
      "cell_type": "markdown",
      "source": [
        "# **Pandas**\n",
        "\n",
        "* Pandas is a powerful and open-source Python library used for working with data sets.\n",
        "*The name \"Pandas\" has a reference to both \"*Panel Data*\", and \"*Python Data Analysis*\" and was created by Wes McKinney in 2008.\n",
        "* It has functions for analyzing, cleaning, exploring, and manipulating data.\n",
        "*The Pandas library is an essential tool for data analysts, scientists, and engineers working with structured data in Python.\n",
        "* Pandas consist of data structures and functions to perform efficient operations on data.\n",
        "* Pandas is well-suited for working with tabular data, such as spreadsheets or SQL tables."
      ],
      "metadata": {
        "id": "fVFzs_9_H5ka"
      }
    },
    {
      "cell_type": "markdown",
      "source": [
        "#Why Use Pandas?\n",
        "* The Pandas library is generally used for data science, because it is used in conjunction with other libraries that are used for data science.\n",
        "(It is built on top of the NumPy library which means that a lot of the structures of NumPy are used or replicated in Pandas.)\n",
        "\n",
        "* Pandas allows us to analyze big data and make conclusions based on statistical theories.\n",
        "* Pandas can clean messy data sets, and make them readable and relevant.\n",
        "* Relevant data is very important in data science.\n",
        "* Data set cleaning, merging, and joining.\n",
        "* Easy handling of missing data (represented as NaN) in floating point as well as non-floating point data.\n",
        "* Columns can be inserted and deleted from DataFrame and higher-dimensional objects.\n",
        "* Powerful group by functionality for performing split-apply-combine operations on data sets.\n",
        "* Data Visualization.\n",
        "* The data produced by Pandas is often used as input for plotting functions in Matplotlib, statistical analysis in SciPy, and machine learning algorithms in Scikit-learn."
      ],
      "metadata": {
        "id": "8qXJHS4NKdhz"
      }
    },
    {
      "cell_type": "markdown",
      "source": [
        "##When to use NumPy:\n",
        "* When you need to perform mathematical operations on arrays of data.\n",
        "* When you need to create and manipulate matrices.\n",
        "* When you need to work with large datasets.\n",
        "##When to use Pandas:\n",
        "* When you need to work with tabular data.\n",
        "* When you need to perform data analysis and manipulation.\n",
        "* When you need to create visualizations."
      ],
      "metadata": {
        "id": "5dT3wvynYVDS"
      }
    },
    {
      "cell_type": "markdown",
      "source": [
        "##Where is the Pandas Codebase?\n",
        "The source code for Pandas is located at this github repository https://github.com/pandas-dev/pandas"
      ],
      "metadata": {
        "id": "Y-K4AFFxKrjX"
      }
    },
    {
      "cell_type": "code",
      "source": [
        "pip install pandas"
      ],
      "metadata": {
        "colab": {
          "base_uri": "https://localhost:8080/"
        },
        "id": "j6sY0wohZrxQ",
        "outputId": "4fb71fd7-0095-48fc-c6ed-18e2ac6f49c7"
      },
      "execution_count": null,
      "outputs": [
        {
          "output_type": "stream",
          "name": "stdout",
          "text": [
            "Requirement already satisfied: pandas in /usr/local/lib/python3.10/dist-packages (2.0.3)\n",
            "Requirement already satisfied: python-dateutil>=2.8.2 in /usr/local/lib/python3.10/dist-packages (from pandas) (2.8.2)\n",
            "Requirement already satisfied: pytz>=2020.1 in /usr/local/lib/python3.10/dist-packages (from pandas) (2023.4)\n",
            "Requirement already satisfied: tzdata>=2022.1 in /usr/local/lib/python3.10/dist-packages (from pandas) (2024.1)\n",
            "Requirement already satisfied: numpy>=1.21.0 in /usr/local/lib/python3.10/dist-packages (from pandas) (1.25.2)\n",
            "Requirement already satisfied: six>=1.5 in /usr/local/lib/python3.10/dist-packages (from python-dateutil>=2.8.2->pandas) (1.16.0)\n"
          ]
        }
      ]
    },
    {
      "cell_type": "code",
      "source": [
        "import pandas as pd\n",
        "\n",
        "print(pd.__version__)"
      ],
      "metadata": {
        "id": "PPqU2ThsZdwS"
      },
      "execution_count": null,
      "outputs": []
    },
    {
      "cell_type": "markdown",
      "source": [
        "#1. **Working on Data**\n",
        "Working with data in Python involves tasks such as reading, manipulating, and displaying data. Libraries like Pandas are commonly used for these tasks. The primary data structure in Pandas is the DataFrame, which is a two-dimensional table with rows and columns. You can perform operations like filtering, sorting, and aggregating data in a DataFrame.\n",
        "\n",
        "##Data Structures in Pandas Library\n",
        "Pandas generally provide two data structures for manipulating data. They are:\n",
        "\n",
        "1.  **DataFrame**\n",
        "* A two-dimensional table.\n",
        "* Similar to a spreadsheet or SQL table.\n",
        "* Consists of rows and columns, each with a label.\n",
        "* Provides methods for data cleaning, reshaping, and analysis.\n",
        "\n",
        "\n",
        "2.   **Series**\n",
        "* A one-dimensional array-like object.\n",
        "* Capable of holding any data type.\n",
        "* Indexed, allowing for easy data retrieval and manipulation.\n",
        "\n",
        "\n",
        "\n",
        "\n"
      ],
      "metadata": {
        "id": "BzfmKx-gMsfW"
      }
    },
    {
      "cell_type": "markdown",
      "source": [
        "##Working on Data Tasks:\n",
        "1. *Data Loading:*\n",
        "* Read data from various file formats (CSV, Excel, SQL, etc.).\n",
        "* pd.read_csv('file.csv'), pd.read_excel('file.xlsx'), etc.\n",
        "\n",
        "2. *Data Exploration:*\n",
        "* Get an overview of the dataset.\n",
        "* df.head(), df.info(), df.describe(), etc.\n",
        "\n",
        "3. *Data Manipulation:*\n",
        "* Filter, sort, and transform data.\n",
        "* df[df['column'] > 5], df.sort_values('column'), etc.\n",
        "\n",
        "4. *Data Visualization:*\n",
        "* Create visual representations of data.\n",
        "* df.plot(), df.hist(), etc."
      ],
      "metadata": {
        "id": "NroyKc5AOibv"
      }
    },
    {
      "cell_type": "code",
      "source": [
        "# Program to demonstrate working on data using Pandas\n",
        "\n",
        "import pandas as pd\n",
        "\n",
        "# Sample data\n",
        "data = {'Name': ['John', 'Alice', 'Bob'],\n",
        "        'Age': [25, 30, 22],\n",
        "        'City': ['New York', 'San Francisco', 'Los Angeles']}\n",
        "\n",
        "# Creating a DataFrame\n",
        "df = pd.DataFrame(data)\n",
        "\n",
        "# Displaying the DataFrame\n",
        "print(\"DataFrame:\")\n",
        "print(df)"
      ],
      "metadata": {
        "colab": {
          "base_uri": "https://localhost:8080/"
        },
        "id": "wsc8AyQPPiBN",
        "outputId": "962e4027-fb3d-41ad-a420-c76062498634"
      },
      "execution_count": null,
      "outputs": [
        {
          "output_type": "stream",
          "name": "stdout",
          "text": [
            "DataFrame:\n",
            "    Name  Age           City\n",
            "0   John   25       New York\n",
            "1  Alice   30  San Francisco\n",
            "2    Bob   22    Los Angeles\n"
          ]
        }
      ]
    },
    {
      "cell_type": "markdown",
      "source": [
        "#2.Series Data:\n",
        "Series data refers to a one-dimensional labeled array capable of holding any data type. In Python, the pandas library provides a Series data structure.\n",
        "\n",
        "Key Features:\n",
        "* Indexing: Each element in a series has a label or index.\n",
        "* Homogeneous Data: All elements in a series are of the same data type.\n",
        "* Missing Values: Series can handle missing or undefined data.\n",
        "\n",
        "Operations on Series:\n",
        "* Series support various operations, including indexing, slicing, and mathematical operations."
      ],
      "metadata": {
        "id": "dLJy2MPWQKjY"
      }
    },
    {
      "cell_type": "code",
      "source": [
        "import pandas as pd\n",
        "\n",
        "a = [1, 7, 2]\n",
        "\n",
        "myvar = pd.Series(a)\n",
        "\n",
        "print(myvar)"
      ],
      "metadata": {
        "colab": {
          "base_uri": "https://localhost:8080/"
        },
        "id": "Q1LXwmHvdLi-",
        "outputId": "88bb4aba-9692-4fdf-b301-1f274e7ccf9a"
      },
      "execution_count": null,
      "outputs": [
        {
          "output_type": "stream",
          "name": "stdout",
          "text": [
            "0    1\n",
            "1    7\n",
            "2    2\n",
            "dtype: int64\n"
          ]
        }
      ]
    },
    {
      "cell_type": "code",
      "source": [
        "print(myvar[2])"
      ],
      "metadata": {
        "colab": {
          "base_uri": "https://localhost:8080/"
        },
        "id": "A-eoQueYdPoS",
        "outputId": "cdf00e57-af51-4553-9b8f-af9a16a63943"
      },
      "execution_count": null,
      "outputs": [
        {
          "output_type": "stream",
          "name": "stdout",
          "text": [
            "2\n"
          ]
        }
      ]
    },
    {
      "cell_type": "code",
      "source": [
        "import pandas as pd\n",
        "\n",
        "a = [1, 7, 2]\n",
        "\n",
        "myvar = pd.Series(a, index = [\"x\", \"y\", \"z\"])\n",
        "\n",
        "print(myvar)"
      ],
      "metadata": {
        "colab": {
          "base_uri": "https://localhost:8080/"
        },
        "id": "K7Ha8mJxdRfQ",
        "outputId": "ac534d64-0594-4bbd-a479-3b9038ea6f9b"
      },
      "execution_count": null,
      "outputs": [
        {
          "output_type": "stream",
          "name": "stdout",
          "text": [
            "x    1\n",
            "y    7\n",
            "z    2\n",
            "dtype: int64\n"
          ]
        }
      ]
    },
    {
      "cell_type": "code",
      "source": [
        "print(myvar[\"y\"])"
      ],
      "metadata": {
        "colab": {
          "base_uri": "https://localhost:8080/"
        },
        "id": "kNmhGgSZdauW",
        "outputId": "53cd2b2d-eccf-407a-8099-87976885eb72"
      },
      "execution_count": null,
      "outputs": [
        {
          "output_type": "stream",
          "name": "stdout",
          "text": [
            "7\n"
          ]
        }
      ]
    },
    {
      "cell_type": "code",
      "source": [
        "import pandas as pd\n",
        "\n",
        "calories = {\"day1\": 420, \"day2\": 380, \"day3\": 390}\n",
        "\n",
        "myvar = pd.Series(calories)\n",
        "\n",
        "print(myvar)"
      ],
      "metadata": {
        "colab": {
          "base_uri": "https://localhost:8080/"
        },
        "id": "95nQ-V-Ndeo0",
        "outputId": "1a879ba4-a67e-4ff2-dec6-0d585c2500fd"
      },
      "execution_count": null,
      "outputs": [
        {
          "output_type": "stream",
          "name": "stdout",
          "text": [
            "day1    420\n",
            "day2    380\n",
            "day3    390\n",
            "dtype: int64\n"
          ]
        }
      ]
    },
    {
      "cell_type": "code",
      "source": [
        "import pandas as pd\n",
        "\n",
        "calories = {\"day1\": 420, \"day2\": 380, \"day3\": 390}\n",
        "\n",
        "myvar = pd.Series(calories, index = [\"day1\", \"day2\"])\n",
        "\n",
        "print(myvar)"
      ],
      "metadata": {
        "colab": {
          "base_uri": "https://localhost:8080/"
        },
        "id": "z2Q0znozdtPo",
        "outputId": "4f781398-607b-4c78-cfaa-37e434513152"
      },
      "execution_count": null,
      "outputs": [
        {
          "output_type": "stream",
          "name": "stdout",
          "text": [
            "day1    420\n",
            "day2    380\n",
            "dtype: int64\n"
          ]
        }
      ]
    },
    {
      "cell_type": "markdown",
      "source": [],
      "metadata": {
        "id": "sTZ9CHWJQrGE"
      }
    },
    {
      "cell_type": "code",
      "source": [
        "# Program to demonstrate working with series data using pandas\n",
        "\n",
        "import pandas as pd\n",
        "\n",
        "# Sample series data\n",
        "series_data = pd.Series([10, 20, 30, 40, 50], index=['a', 'b', 'c', 'd', 'e'])\n",
        "\n",
        "# Display the series data\n",
        "print(\"Series Data:\")\n",
        "print(series_data)\n",
        "\n",
        "# Accessing elements by index\n",
        "print(\"\\nValue at index 'b':\", series_data['b'])\n",
        "\n",
        "# Slicing the series\n",
        "subset_series = series_data['a':'c']\n",
        "\n",
        "# Display the sliced series\n",
        "print(\"\\nSliced Series:\")\n",
        "print(subset_series)"
      ],
      "metadata": {
        "colab": {
          "base_uri": "https://localhost:8080/"
        },
        "id": "2XGrm05nQs8M",
        "outputId": "c8f36e2f-512c-4e15-d9e4-9018371713ec"
      },
      "execution_count": null,
      "outputs": [
        {
          "output_type": "stream",
          "name": "stdout",
          "text": [
            "Series Data:\n",
            "a    10\n",
            "b    20\n",
            "c    30\n",
            "d    40\n",
            "e    50\n",
            "dtype: int64\n",
            "\n",
            "Value at index 'b': 20\n",
            "\n",
            "Sliced Series:\n",
            "a    10\n",
            "b    20\n",
            "c    30\n",
            "dtype: int64\n"
          ]
        }
      ]
    },
    {
      "cell_type": "markdown",
      "source": [
        "#3. Data Frame:\n",
        "\n",
        "Data Frame in Python:\n",
        "* A DataFrame is a two-dimensional, tabular data structure in Python, commonly used in data analysis and manipulation. The pandas library provides the DataFrame class.\n",
        "\n",
        "Key Features:\n",
        "* Rows and Columns: DataFrames have rows and columns, allowing you to represent and manipulate data in a structured form.\n",
        "* Indexing: Similar to Series, DataFrames have labeled indices for both rows and columns.\n",
        "* Heterogeneous Data: Columns in a DataFrame can have different data types.\n",
        "\n",
        "Operations on DataFrames:\n",
        "* DataFrames support various operations, including selecting columns, filtering rows, and performing statistical analyses.\n",
        "\n"
      ],
      "metadata": {
        "id": "be6YVW2fRAuo"
      }
    },
    {
      "cell_type": "code",
      "source": [
        "import pandas as pd\n",
        "\n",
        "data = {\n",
        "  \"calories\": [420, 380, 390],\n",
        "  \"duration\": [50, 40, 45]\n",
        "}\n",
        "\n",
        "#load data into a DataFrame object:\n",
        "df = pd.DataFrame(data)\n",
        "\n",
        "print(df)"
      ],
      "metadata": {
        "colab": {
          "base_uri": "https://localhost:8080/"
        },
        "id": "8fwoYuDyemUm",
        "outputId": "ffcbb498-86af-4887-ad61-a3f82ef2039c"
      },
      "execution_count": null,
      "outputs": [
        {
          "output_type": "stream",
          "name": "stdout",
          "text": [
            "   calories  duration\n",
            "0       420        50\n",
            "1       380        40\n",
            "2       390        45\n"
          ]
        }
      ]
    },
    {
      "cell_type": "markdown",
      "source": [
        "##Locate Row\n",
        "\n",
        "Pandas use the loc attribute to return one or more specified row(s)"
      ],
      "metadata": {
        "id": "2rvA9JB9fOC4"
      }
    },
    {
      "cell_type": "code",
      "source": [
        "#refer to the row index:\n",
        "print(df.loc[2])"
      ],
      "metadata": {
        "colab": {
          "base_uri": "https://localhost:8080/"
        },
        "id": "cDVl1tg4fRku",
        "outputId": "7828a7db-c5d8-4a9b-db9c-325a006c05dc"
      },
      "execution_count": null,
      "outputs": [
        {
          "output_type": "stream",
          "name": "stdout",
          "text": [
            "calories    390\n",
            "duration     45\n",
            "Name: 2, dtype: int64\n"
          ]
        }
      ]
    },
    {
      "cell_type": "code",
      "source": [
        "#use a list of indexes:\n",
        "print(df.loc[[0, 1]])"
      ],
      "metadata": {
        "colab": {
          "base_uri": "https://localhost:8080/"
        },
        "id": "xM62SVx_f2aX",
        "outputId": "97caf2fc-74b9-447e-c436-b7baf4612e67"
      },
      "execution_count": null,
      "outputs": [
        {
          "output_type": "stream",
          "name": "stdout",
          "text": [
            "   calories  duration\n",
            "0       420        50\n",
            "1       380        40\n"
          ]
        }
      ]
    },
    {
      "cell_type": "code",
      "source": [
        "import pandas as pd\n",
        "\n",
        "data = {\n",
        "  \"calories\": [420, 380, 390],\n",
        "  \"duration\": [50, 40, 45]\n",
        "}\n",
        "\n",
        "df = pd.DataFrame(data, index = [\"day1\", \"day2\", \"day3\"])\n",
        "\n",
        "print(df)"
      ],
      "metadata": {
        "colab": {
          "base_uri": "https://localhost:8080/"
        },
        "id": "sSjTyZ5zf743",
        "outputId": "8a70f8a1-8d5c-4c94-b9f3-53364f512eaa"
      },
      "execution_count": null,
      "outputs": [
        {
          "output_type": "stream",
          "name": "stdout",
          "text": [
            "      calories  duration\n",
            "day1       420        50\n",
            "day2       380        40\n",
            "day3       390        45\n"
          ]
        }
      ]
    },
    {
      "cell_type": "code",
      "source": [
        "#refer to the named index:\n",
        "print(df.loc[\"day2\"])"
      ],
      "metadata": {
        "colab": {
          "base_uri": "https://localhost:8080/"
        },
        "id": "eI4rBXdcgABo",
        "outputId": "37d26487-1942-4a7e-922c-4b251da97579"
      },
      "execution_count": null,
      "outputs": [
        {
          "output_type": "stream",
          "name": "stdout",
          "text": [
            "calories    380\n",
            "duration     40\n",
            "Name: day2, dtype: int64\n"
          ]
        }
      ]
    },
    {
      "cell_type": "code",
      "source": [
        "# Program to demonstrate working with DataFrames using pandas\n",
        "\n",
        "import pandas as pd\n",
        "\n",
        "# Sample data for a DataFrame\n",
        "data = {'Name': ['John', 'Alice', 'Bob'],\n",
        "        'Age': [25, 30, 22],\n",
        "        'City': ['New York', 'San Francisco', 'Los Angeles']}\n",
        "\n",
        "# Creating a DataFrame\n",
        "df = pd.DataFrame(data)\n",
        "\n",
        "# Displaying the DataFrame\n",
        "print(\"DataFrame:\")\n",
        "print(df)\n",
        "\n",
        "# Accessing specific columns\n",
        "print(\"\\nName Column:\")\n",
        "print(df['Name'])\n",
        "\n",
        "# Adding a new column\n",
        "df['Occupation'] = ['Engineer', 'Designer', 'Actor']\n",
        "\n",
        "# Displaying the updated DataFrame\n",
        "print(\"\\nUpdated DataFrame:\")\n",
        "print(df)"
      ],
      "metadata": {
        "colab": {
          "base_uri": "https://localhost:8080/"
        },
        "id": "Aho_6IsPRc73",
        "outputId": "250f8e37-ec9d-4bbf-fa82-a5ba0b538b6a"
      },
      "execution_count": null,
      "outputs": [
        {
          "output_type": "stream",
          "name": "stdout",
          "text": [
            "DataFrame:\n",
            "    Name  Age           City\n",
            "0   John   25       New York\n",
            "1  Alice   30  San Francisco\n",
            "2    Bob   22    Los Angeles\n",
            "\n",
            "Name Column:\n",
            "0     John\n",
            "1    Alice\n",
            "2      Bob\n",
            "Name: Name, dtype: object\n",
            "\n",
            "Updated DataFrame:\n",
            "    Name  Age           City Occupation\n",
            "0   John   25       New York   Engineer\n",
            "1  Alice   30  San Francisco   Designer\n",
            "2    Bob   22    Los Angeles      Actor\n"
          ]
        }
      ]
    },
    {
      "cell_type": "markdown",
      "source": [
        "#4. Working with CSV Data:\n",
        "CSV (Comma-Separated Values):\n",
        "* CSV is a simple and widely used file format for storing tabular data. Each line of the file represents a row, and values are separated by commas (or other delimiters).\n",
        "\n",
        "Key Points:\n",
        "* CSV is a plain-text format that is easy to create, edit, and read.\n",
        "* The pandas library provides convenient functions for reading and writing CSV files.\n"
      ],
      "metadata": {
        "id": "zEoP4VY8RjeG"
      }
    },
    {
      "cell_type": "code",
      "source": [
        "import pandas as pd\n",
        "\n",
        "df = pd.read_csv('Sample_data.csv')\n",
        "\n",
        "print(df.to_string())"
      ],
      "metadata": {
        "colab": {
          "base_uri": "https://localhost:8080/"
        },
        "id": "7AuV_NI8hDlZ",
        "outputId": "c97e9291-0b92-41de-d5c7-0f13d6cb5073"
      },
      "execution_count": null,
      "outputs": [
        {
          "output_type": "stream",
          "name": "stdout",
          "text": [
            "          Date   Product   Region  Sales\n",
            "0   2023-01-01  ProductA  Region1   1000\n",
            "1   2023-01-02  ProductB  Region2   1500\n",
            "2   2023-01-03  ProductC  Region1   2000\n",
            "3   2023-01-04  ProductA  Region2   1200\n",
            "4   2023-01-05  ProductB  Region1   1800\n",
            "5   2023-01-06  ProductC  Region2   2100\n",
            "6   2023-01-07  ProductA  Region1   1100\n",
            "7   2023-01-08  ProductB  Region2   1600\n",
            "8   2023-01-09  ProductC  Region1   2200\n",
            "9   2023-01-10  ProductA  Region2   1300\n",
            "10  2023-01-11  ProductB  Region1   1900\n",
            "11  2023-01-12  ProductC  Region2   2300\n",
            "12  2023-01-13  ProductA  Region1   1050\n",
            "13  2023-01-14  ProductB  Region2   1650\n",
            "14  2023-01-15  ProductC  Region1   2100\n",
            "15  2023-01-16  ProductA  Region2   1250\n",
            "16  2023-01-17  ProductB  Region1   1850\n",
            "17  2023-01-18  ProductC  Region2   2200\n",
            "18  2023-01-19  ProductA  Region1   1150\n",
            "19  2023-01-20  ProductB  Region2   1550\n",
            "20  2023-01-21  ProductC  Region1   2050\n",
            "21  2023-01-22  ProductA  Region2   1350\n",
            "22  2023-01-23  ProductB  Region1   1950\n",
            "23  2023-01-24  ProductC  Region2   2400\n",
            "24  2023-01-25  ProductA  Region1   1200\n",
            "25  2023-01-26  ProductB  Region2   1700\n",
            "26  2023-01-27  ProductC  Region1   2150\n",
            "27  2023-01-28  ProductA  Region2   1400\n",
            "28  2023-01-29  ProductB  Region1   2000\n",
            "29  2023-01-30  ProductC  Region2   2500\n",
            "30  2023-01-31  ProductA  Region1   1250\n",
            "31  2023-02-01  ProductB  Region2   1600\n",
            "32  2023-02-02  ProductC  Region1   1950\n",
            "33  2023-02-03  ProductA  Region2   1450\n",
            "34  2023-02-04  ProductB  Region1   2050\n",
            "35  2023-02-05  ProductC  Region2   2600\n",
            "36  2023-02-06  ProductA  Region1   1300\n",
            "37  2023-02-07  ProductB  Region2   1650\n",
            "38  2023-02-08  ProductC  Region1   2000\n",
            "39  2023-02-09  ProductA  Region2   1500\n",
            "40  2023-02-10  ProductB  Region1   2100\n",
            "41  2023-02-11  ProductC  Region2   2700\n",
            "42  2023-02-12  ProductA  Region1   1350\n",
            "43  2023-02-13  ProductB  Region2   1700\n",
            "44  2023-02-14  ProductC  Region1   2050\n",
            "45  2023-02-15  ProductA  Region2   1550\n",
            "46  2023-02-16  ProductB  Region1   2150\n",
            "47  2023-02-17  ProductC  Region2   2800\n",
            "48  2023-02-18  ProductA  Region1   1400\n",
            "49  2023-02-19  ProductB  Region2   1750\n",
            "50  2023-02-20  ProductC  Region1   2100\n",
            "51  2023-02-21  ProductA  Region2   1600\n",
            "52  2023-02-22  ProductB  Region1   2200\n",
            "53  2023-02-23  ProductC  Region2   2900\n",
            "54  2023-02-24  ProductA  Region1   1450\n",
            "55  2023-02-25  ProductB  Region2   1800\n",
            "56  2023-02-26  ProductC  Region1   2150\n",
            "57  2023-02-27  ProductA  Region2   1650\n",
            "58  2023-02-28  ProductB  Region1   2250\n",
            "59  2023-03-01  ProductC  Region2   3000\n",
            "60  2023-03-02  ProductA  Region1   1500\n",
            "61  2023-03-03  ProductB  Region2   1850\n",
            "62  2023-03-04  ProductC  Region1   2200\n",
            "63  2023-03-05  ProductA  Region2   1700\n",
            "64  2023-03-06  ProductB  Region1   2300\n",
            "65  2023-03-07  ProductC  Region2   3100\n",
            "66  2023-03-08  ProductA  Region1   1550\n",
            "67  2023-03-09  ProductB  Region2   1900\n",
            "68  2023-03-10  ProductC  Region1   2250\n"
          ]
        }
      ]
    },
    {
      "cell_type": "markdown",
      "source": [
        "We use to_string() to print the entire DataFrame."
      ],
      "metadata": {
        "id": "X_l1vLHLiDnN"
      }
    },
    {
      "cell_type": "code",
      "source": [
        "import pandas as pd\n",
        "\n",
        "df = pd.read_csv('Sample_data.csv')\n",
        "\n",
        "print(df)"
      ],
      "metadata": {
        "colab": {
          "base_uri": "https://localhost:8080/"
        },
        "id": "7A5SmGN8h5JR",
        "outputId": "9f1e2d70-1b93-4eb4-f5ef-e65ec0392686"
      },
      "execution_count": null,
      "outputs": [
        {
          "output_type": "stream",
          "name": "stdout",
          "text": [
            "          Date   Product   Region  Sales\n",
            "0   2023-01-01  ProductA  Region1   1000\n",
            "1   2023-01-02  ProductB  Region2   1500\n",
            "2   2023-01-03  ProductC  Region1   2000\n",
            "3   2023-01-04  ProductA  Region2   1200\n",
            "4   2023-01-05  ProductB  Region1   1800\n",
            "..         ...       ...      ...    ...\n",
            "64  2023-03-06  ProductB  Region1   2300\n",
            "65  2023-03-07  ProductC  Region2   3100\n",
            "66  2023-03-08  ProductA  Region1   1550\n",
            "67  2023-03-09  ProductB  Region2   1900\n",
            "68  2023-03-10  ProductC  Region1   2250\n",
            "\n",
            "[69 rows x 4 columns]\n"
          ]
        }
      ]
    },
    {
      "cell_type": "code",
      "source": [
        "import pandas as pd\n",
        "\n",
        "print(pd.options.display.max_rows)"
      ],
      "metadata": {
        "colab": {
          "base_uri": "https://localhost:8080/"
        },
        "id": "lqemFKiXg3wa",
        "outputId": "83af5290-d4bc-4bc6-aa9f-d3037e7a26df"
      },
      "execution_count": null,
      "outputs": [
        {
          "output_type": "stream",
          "name": "stdout",
          "text": [
            "60\n"
          ]
        }
      ]
    },
    {
      "cell_type": "code",
      "source": [
        "import pandas as pd\n",
        "\n",
        "pd.options.display.max_rows = 9999\n",
        "\n",
        "df = pd.read_csv('Sample_data.csv')\n",
        "\n",
        "print(df)"
      ],
      "metadata": {
        "colab": {
          "base_uri": "https://localhost:8080/"
        },
        "id": "qPkzerCFiRPd",
        "outputId": "05b5336a-b100-43b7-ea5e-7403ec379142"
      },
      "execution_count": null,
      "outputs": [
        {
          "output_type": "stream",
          "name": "stdout",
          "text": [
            "          Date   Product   Region  Sales\n",
            "0   2023-01-01  ProductA  Region1   1000\n",
            "1   2023-01-02  ProductB  Region2   1500\n",
            "2   2023-01-03  ProductC  Region1   2000\n",
            "3   2023-01-04  ProductA  Region2   1200\n",
            "4   2023-01-05  ProductB  Region1   1800\n",
            "5   2023-01-06  ProductC  Region2   2100\n",
            "6   2023-01-07  ProductA  Region1   1100\n",
            "7   2023-01-08  ProductB  Region2   1600\n",
            "8   2023-01-09  ProductC  Region1   2200\n",
            "9   2023-01-10  ProductA  Region2   1300\n",
            "10  2023-01-11  ProductB  Region1   1900\n",
            "11  2023-01-12  ProductC  Region2   2300\n",
            "12  2023-01-13  ProductA  Region1   1050\n",
            "13  2023-01-14  ProductB  Region2   1650\n",
            "14  2023-01-15  ProductC  Region1   2100\n",
            "15  2023-01-16  ProductA  Region2   1250\n",
            "16  2023-01-17  ProductB  Region1   1850\n",
            "17  2023-01-18  ProductC  Region2   2200\n",
            "18  2023-01-19  ProductA  Region1   1150\n",
            "19  2023-01-20  ProductB  Region2   1550\n",
            "20  2023-01-21  ProductC  Region1   2050\n",
            "21  2023-01-22  ProductA  Region2   1350\n",
            "22  2023-01-23  ProductB  Region1   1950\n",
            "23  2023-01-24  ProductC  Region2   2400\n",
            "24  2023-01-25  ProductA  Region1   1200\n",
            "25  2023-01-26  ProductB  Region2   1700\n",
            "26  2023-01-27  ProductC  Region1   2150\n",
            "27  2023-01-28  ProductA  Region2   1400\n",
            "28  2023-01-29  ProductB  Region1   2000\n",
            "29  2023-01-30  ProductC  Region2   2500\n",
            "30  2023-01-31  ProductA  Region1   1250\n",
            "31  2023-02-01  ProductB  Region2   1600\n",
            "32  2023-02-02  ProductC  Region1   1950\n",
            "33  2023-02-03  ProductA  Region2   1450\n",
            "34  2023-02-04  ProductB  Region1   2050\n",
            "35  2023-02-05  ProductC  Region2   2600\n",
            "36  2023-02-06  ProductA  Region1   1300\n",
            "37  2023-02-07  ProductB  Region2   1650\n",
            "38  2023-02-08  ProductC  Region1   2000\n",
            "39  2023-02-09  ProductA  Region2   1500\n",
            "40  2023-02-10  ProductB  Region1   2100\n",
            "41  2023-02-11  ProductC  Region2   2700\n",
            "42  2023-02-12  ProductA  Region1   1350\n",
            "43  2023-02-13  ProductB  Region2   1700\n",
            "44  2023-02-14  ProductC  Region1   2050\n",
            "45  2023-02-15  ProductA  Region2   1550\n",
            "46  2023-02-16  ProductB  Region1   2150\n",
            "47  2023-02-17  ProductC  Region2   2800\n",
            "48  2023-02-18  ProductA  Region1   1400\n",
            "49  2023-02-19  ProductB  Region2   1750\n",
            "50  2023-02-20  ProductC  Region1   2100\n",
            "51  2023-02-21  ProductA  Region2   1600\n",
            "52  2023-02-22  ProductB  Region1   2200\n",
            "53  2023-02-23  ProductC  Region2   2900\n",
            "54  2023-02-24  ProductA  Region1   1450\n",
            "55  2023-02-25  ProductB  Region2   1800\n",
            "56  2023-02-26  ProductC  Region1   2150\n",
            "57  2023-02-27  ProductA  Region2   1650\n",
            "58  2023-02-28  ProductB  Region1   2250\n",
            "59  2023-03-01  ProductC  Region2   3000\n",
            "60  2023-03-02  ProductA  Region1   1500\n",
            "61  2023-03-03  ProductB  Region2   1850\n",
            "62  2023-03-04  ProductC  Region1   2200\n",
            "63  2023-03-05  ProductA  Region2   1700\n",
            "64  2023-03-06  ProductB  Region1   2300\n",
            "65  2023-03-07  ProductC  Region2   3100\n",
            "66  2023-03-08  ProductA  Region1   1550\n",
            "67  2023-03-09  ProductB  Region2   1900\n",
            "68  2023-03-10  ProductC  Region1   2250\n"
          ]
        }
      ]
    },
    {
      "cell_type": "code",
      "source": [
        "from google.colab import drive\n",
        "drive.mount('/content/drive')"
      ],
      "metadata": {
        "colab": {
          "base_uri": "https://localhost:8080/"
        },
        "id": "dm72gO7phslO",
        "outputId": "c47c7055-a509-449d-ec79-7ad6d6259122"
      },
      "execution_count": null,
      "outputs": [
        {
          "output_type": "stream",
          "name": "stdout",
          "text": [
            "Mounted at /content/drive\n"
          ]
        }
      ]
    },
    {
      "cell_type": "code",
      "source": [
        "from google.colab import files\n",
        "uploaded = files.upload()"
      ],
      "metadata": {
        "colab": {
          "base_uri": "https://localhost:8080/",
          "height": 73
        },
        "id": "ohSmFwzfUiUF",
        "outputId": "143bfd18-7697-4d28-ba54-02040f28286a"
      },
      "execution_count": null,
      "outputs": [
        {
          "output_type": "display_data",
          "data": {
            "text/plain": [
              "<IPython.core.display.HTML object>"
            ],
            "text/html": [
              "\n",
              "     <input type=\"file\" id=\"files-e0338777-301b-4407-ac99-0c0579ba56e6\" name=\"files[]\" multiple disabled\n",
              "        style=\"border:none\" />\n",
              "     <output id=\"result-e0338777-301b-4407-ac99-0c0579ba56e6\">\n",
              "      Upload widget is only available when the cell has been executed in the\n",
              "      current browser session. Please rerun this cell to enable.\n",
              "      </output>\n",
              "      <script>// Copyright 2017 Google LLC\n",
              "//\n",
              "// Licensed under the Apache License, Version 2.0 (the \"License\");\n",
              "// you may not use this file except in compliance with the License.\n",
              "// You may obtain a copy of the License at\n",
              "//\n",
              "//      http://www.apache.org/licenses/LICENSE-2.0\n",
              "//\n",
              "// Unless required by applicable law or agreed to in writing, software\n",
              "// distributed under the License is distributed on an \"AS IS\" BASIS,\n",
              "// WITHOUT WARRANTIES OR CONDITIONS OF ANY KIND, either express or implied.\n",
              "// See the License for the specific language governing permissions and\n",
              "// limitations under the License.\n",
              "\n",
              "/**\n",
              " * @fileoverview Helpers for google.colab Python module.\n",
              " */\n",
              "(function(scope) {\n",
              "function span(text, styleAttributes = {}) {\n",
              "  const element = document.createElement('span');\n",
              "  element.textContent = text;\n",
              "  for (const key of Object.keys(styleAttributes)) {\n",
              "    element.style[key] = styleAttributes[key];\n",
              "  }\n",
              "  return element;\n",
              "}\n",
              "\n",
              "// Max number of bytes which will be uploaded at a time.\n",
              "const MAX_PAYLOAD_SIZE = 100 * 1024;\n",
              "\n",
              "function _uploadFiles(inputId, outputId) {\n",
              "  const steps = uploadFilesStep(inputId, outputId);\n",
              "  const outputElement = document.getElementById(outputId);\n",
              "  // Cache steps on the outputElement to make it available for the next call\n",
              "  // to uploadFilesContinue from Python.\n",
              "  outputElement.steps = steps;\n",
              "\n",
              "  return _uploadFilesContinue(outputId);\n",
              "}\n",
              "\n",
              "// This is roughly an async generator (not supported in the browser yet),\n",
              "// where there are multiple asynchronous steps and the Python side is going\n",
              "// to poll for completion of each step.\n",
              "// This uses a Promise to block the python side on completion of each step,\n",
              "// then passes the result of the previous step as the input to the next step.\n",
              "function _uploadFilesContinue(outputId) {\n",
              "  const outputElement = document.getElementById(outputId);\n",
              "  const steps = outputElement.steps;\n",
              "\n",
              "  const next = steps.next(outputElement.lastPromiseValue);\n",
              "  return Promise.resolve(next.value.promise).then((value) => {\n",
              "    // Cache the last promise value to make it available to the next\n",
              "    // step of the generator.\n",
              "    outputElement.lastPromiseValue = value;\n",
              "    return next.value.response;\n",
              "  });\n",
              "}\n",
              "\n",
              "/**\n",
              " * Generator function which is called between each async step of the upload\n",
              " * process.\n",
              " * @param {string} inputId Element ID of the input file picker element.\n",
              " * @param {string} outputId Element ID of the output display.\n",
              " * @return {!Iterable<!Object>} Iterable of next steps.\n",
              " */\n",
              "function* uploadFilesStep(inputId, outputId) {\n",
              "  const inputElement = document.getElementById(inputId);\n",
              "  inputElement.disabled = false;\n",
              "\n",
              "  const outputElement = document.getElementById(outputId);\n",
              "  outputElement.innerHTML = '';\n",
              "\n",
              "  const pickedPromise = new Promise((resolve) => {\n",
              "    inputElement.addEventListener('change', (e) => {\n",
              "      resolve(e.target.files);\n",
              "    });\n",
              "  });\n",
              "\n",
              "  const cancel = document.createElement('button');\n",
              "  inputElement.parentElement.appendChild(cancel);\n",
              "  cancel.textContent = 'Cancel upload';\n",
              "  const cancelPromise = new Promise((resolve) => {\n",
              "    cancel.onclick = () => {\n",
              "      resolve(null);\n",
              "    };\n",
              "  });\n",
              "\n",
              "  // Wait for the user to pick the files.\n",
              "  const files = yield {\n",
              "    promise: Promise.race([pickedPromise, cancelPromise]),\n",
              "    response: {\n",
              "      action: 'starting',\n",
              "    }\n",
              "  };\n",
              "\n",
              "  cancel.remove();\n",
              "\n",
              "  // Disable the input element since further picks are not allowed.\n",
              "  inputElement.disabled = true;\n",
              "\n",
              "  if (!files) {\n",
              "    return {\n",
              "      response: {\n",
              "        action: 'complete',\n",
              "      }\n",
              "    };\n",
              "  }\n",
              "\n",
              "  for (const file of files) {\n",
              "    const li = document.createElement('li');\n",
              "    li.append(span(file.name, {fontWeight: 'bold'}));\n",
              "    li.append(span(\n",
              "        `(${file.type || 'n/a'}) - ${file.size} bytes, ` +\n",
              "        `last modified: ${\n",
              "            file.lastModifiedDate ? file.lastModifiedDate.toLocaleDateString() :\n",
              "                                    'n/a'} - `));\n",
              "    const percent = span('0% done');\n",
              "    li.appendChild(percent);\n",
              "\n",
              "    outputElement.appendChild(li);\n",
              "\n",
              "    const fileDataPromise = new Promise((resolve) => {\n",
              "      const reader = new FileReader();\n",
              "      reader.onload = (e) => {\n",
              "        resolve(e.target.result);\n",
              "      };\n",
              "      reader.readAsArrayBuffer(file);\n",
              "    });\n",
              "    // Wait for the data to be ready.\n",
              "    let fileData = yield {\n",
              "      promise: fileDataPromise,\n",
              "      response: {\n",
              "        action: 'continue',\n",
              "      }\n",
              "    };\n",
              "\n",
              "    // Use a chunked sending to avoid message size limits. See b/62115660.\n",
              "    let position = 0;\n",
              "    do {\n",
              "      const length = Math.min(fileData.byteLength - position, MAX_PAYLOAD_SIZE);\n",
              "      const chunk = new Uint8Array(fileData, position, length);\n",
              "      position += length;\n",
              "\n",
              "      const base64 = btoa(String.fromCharCode.apply(null, chunk));\n",
              "      yield {\n",
              "        response: {\n",
              "          action: 'append',\n",
              "          file: file.name,\n",
              "          data: base64,\n",
              "        },\n",
              "      };\n",
              "\n",
              "      let percentDone = fileData.byteLength === 0 ?\n",
              "          100 :\n",
              "          Math.round((position / fileData.byteLength) * 100);\n",
              "      percent.textContent = `${percentDone}% done`;\n",
              "\n",
              "    } while (position < fileData.byteLength);\n",
              "  }\n",
              "\n",
              "  // All done.\n",
              "  yield {\n",
              "    response: {\n",
              "      action: 'complete',\n",
              "    }\n",
              "  };\n",
              "}\n",
              "\n",
              "scope.google = scope.google || {};\n",
              "scope.google.colab = scope.google.colab || {};\n",
              "scope.google.colab._files = {\n",
              "  _uploadFiles,\n",
              "  _uploadFilesContinue,\n",
              "};\n",
              "})(self);\n",
              "</script> "
            ]
          },
          "metadata": {}
        },
        {
          "output_type": "stream",
          "name": "stdout",
          "text": [
            "Saving username.csv to username.csv\n"
          ]
        }
      ]
    },
    {
      "cell_type": "code",
      "source": [
        "import pandas as pd\n",
        "import io\n",
        "\n",
        "df = pd.read_csv(io.BytesIO(uploaded['username.csv']))\n",
        "print(df)"
      ],
      "metadata": {
        "colab": {
          "base_uri": "https://localhost:8080/"
        },
        "id": "A4cQ0JeVUruW",
        "outputId": "8d1dcb29-e468-4692-c2cf-e63788613cfd"
      },
      "execution_count": null,
      "outputs": [
        {
          "output_type": "stream",
          "name": "stdout",
          "text": [
            "    Username   Identifier First name Last name\n",
            "0   booker12         9012     Rachel    Booker\n",
            "1     grey07         2070      Laura      Grey\n",
            "2  johnson81         4081      Craig   Johnson\n",
            "3  jenkins46         9346       Mary   Jenkins\n",
            "4    smith79         5079      Jamie     Smith\n"
          ]
        }
      ]
    },
    {
      "cell_type": "code",
      "source": [
        "# Program to demonstrate working with CSV data using pandas\n",
        "\n",
        "import pandas as pd\n",
        "\n",
        "# Reading CSV data into a DataFrame\n",
        "csv_file_path = 'username.csv'  # Replace with your CSV file path\n",
        "df_csv = pd.read_csv(\"/content/username.csv\")\n",
        "\n",
        "# Displaying the DataFrame\n",
        "print(\"CSV Data:\")\n",
        "print(df_csv)\n",
        "\n",
        "# Writing DataFrame to a new CSV file\n",
        "df_csv.to_csv('output_data.csv', index=False)\n",
        "print(\"\\nDataFrame written to output_data.csv\")"
      ],
      "metadata": {
        "colab": {
          "base_uri": "https://localhost:8080/"
        },
        "id": "_I_v5r9pUB17",
        "outputId": "896af8f7-0990-459c-ad8c-3ce043055501"
      },
      "execution_count": null,
      "outputs": [
        {
          "output_type": "stream",
          "name": "stdout",
          "text": [
            "CSV Data:\n",
            "    Username   Identifier First name Last name\n",
            "0   booker12         9012     Rachel    Booker\n",
            "1     grey07         2070      Laura      Grey\n",
            "2  johnson81         4081      Craig   Johnson\n",
            "3  jenkins46         9346       Mary   Jenkins\n",
            "4    smith79         5079      Jamie     Smith\n",
            "\n",
            "DataFrame written to output_data.csv\n"
          ]
        }
      ]
    },
    {
      "cell_type": "code",
      "source": [
        "df_csv"
      ],
      "metadata": {
        "colab": {
          "base_uri": "https://localhost:8080/",
          "height": 206
        },
        "id": "lv290-U0YB9H",
        "outputId": "be32b3e3-65fe-4a77-8724-77eeea5d102b"
      },
      "execution_count": null,
      "outputs": [
        {
          "output_type": "execute_result",
          "data": {
            "text/plain": [
              "    Username   Identifier First name Last name\n",
              "0   booker12         9012     Rachel    Booker\n",
              "1     grey07         2070      Laura      Grey\n",
              "2  johnson81         4081      Craig   Johnson\n",
              "3  jenkins46         9346       Mary   Jenkins\n",
              "4    smith79         5079      Jamie     Smith"
            ],
            "text/html": [
              "\n",
              "  <div id=\"df-8367f6d2-a188-4dd6-ac75-7b4f754ba2e2\" class=\"colab-df-container\">\n",
              "    <div>\n",
              "<style scoped>\n",
              "    .dataframe tbody tr th:only-of-type {\n",
              "        vertical-align: middle;\n",
              "    }\n",
              "\n",
              "    .dataframe tbody tr th {\n",
              "        vertical-align: top;\n",
              "    }\n",
              "\n",
              "    .dataframe thead th {\n",
              "        text-align: right;\n",
              "    }\n",
              "</style>\n",
              "<table border=\"1\" class=\"dataframe\">\n",
              "  <thead>\n",
              "    <tr style=\"text-align: right;\">\n",
              "      <th></th>\n",
              "      <th>Username</th>\n",
              "      <th>Identifier</th>\n",
              "      <th>First name</th>\n",
              "      <th>Last name</th>\n",
              "    </tr>\n",
              "  </thead>\n",
              "  <tbody>\n",
              "    <tr>\n",
              "      <th>0</th>\n",
              "      <td>booker12</td>\n",
              "      <td>9012</td>\n",
              "      <td>Rachel</td>\n",
              "      <td>Booker</td>\n",
              "    </tr>\n",
              "    <tr>\n",
              "      <th>1</th>\n",
              "      <td>grey07</td>\n",
              "      <td>2070</td>\n",
              "      <td>Laura</td>\n",
              "      <td>Grey</td>\n",
              "    </tr>\n",
              "    <tr>\n",
              "      <th>2</th>\n",
              "      <td>johnson81</td>\n",
              "      <td>4081</td>\n",
              "      <td>Craig</td>\n",
              "      <td>Johnson</td>\n",
              "    </tr>\n",
              "    <tr>\n",
              "      <th>3</th>\n",
              "      <td>jenkins46</td>\n",
              "      <td>9346</td>\n",
              "      <td>Mary</td>\n",
              "      <td>Jenkins</td>\n",
              "    </tr>\n",
              "    <tr>\n",
              "      <th>4</th>\n",
              "      <td>smith79</td>\n",
              "      <td>5079</td>\n",
              "      <td>Jamie</td>\n",
              "      <td>Smith</td>\n",
              "    </tr>\n",
              "  </tbody>\n",
              "</table>\n",
              "</div>\n",
              "    <div class=\"colab-df-buttons\">\n",
              "\n",
              "  <div class=\"colab-df-container\">\n",
              "    <button class=\"colab-df-convert\" onclick=\"convertToInteractive('df-8367f6d2-a188-4dd6-ac75-7b4f754ba2e2')\"\n",
              "            title=\"Convert this dataframe to an interactive table.\"\n",
              "            style=\"display:none;\">\n",
              "\n",
              "  <svg xmlns=\"http://www.w3.org/2000/svg\" height=\"24px\" viewBox=\"0 -960 960 960\">\n",
              "    <path d=\"M120-120v-720h720v720H120Zm60-500h600v-160H180v160Zm220 220h160v-160H400v160Zm0 220h160v-160H400v160ZM180-400h160v-160H180v160Zm440 0h160v-160H620v160ZM180-180h160v-160H180v160Zm440 0h160v-160H620v160Z\"/>\n",
              "  </svg>\n",
              "    </button>\n",
              "\n",
              "  <style>\n",
              "    .colab-df-container {\n",
              "      display:flex;\n",
              "      gap: 12px;\n",
              "    }\n",
              "\n",
              "    .colab-df-convert {\n",
              "      background-color: #E8F0FE;\n",
              "      border: none;\n",
              "      border-radius: 50%;\n",
              "      cursor: pointer;\n",
              "      display: none;\n",
              "      fill: #1967D2;\n",
              "      height: 32px;\n",
              "      padding: 0 0 0 0;\n",
              "      width: 32px;\n",
              "    }\n",
              "\n",
              "    .colab-df-convert:hover {\n",
              "      background-color: #E2EBFA;\n",
              "      box-shadow: 0px 1px 2px rgba(60, 64, 67, 0.3), 0px 1px 3px 1px rgba(60, 64, 67, 0.15);\n",
              "      fill: #174EA6;\n",
              "    }\n",
              "\n",
              "    .colab-df-buttons div {\n",
              "      margin-bottom: 4px;\n",
              "    }\n",
              "\n",
              "    [theme=dark] .colab-df-convert {\n",
              "      background-color: #3B4455;\n",
              "      fill: #D2E3FC;\n",
              "    }\n",
              "\n",
              "    [theme=dark] .colab-df-convert:hover {\n",
              "      background-color: #434B5C;\n",
              "      box-shadow: 0px 1px 3px 1px rgba(0, 0, 0, 0.15);\n",
              "      filter: drop-shadow(0px 1px 2px rgba(0, 0, 0, 0.3));\n",
              "      fill: #FFFFFF;\n",
              "    }\n",
              "  </style>\n",
              "\n",
              "    <script>\n",
              "      const buttonEl =\n",
              "        document.querySelector('#df-8367f6d2-a188-4dd6-ac75-7b4f754ba2e2 button.colab-df-convert');\n",
              "      buttonEl.style.display =\n",
              "        google.colab.kernel.accessAllowed ? 'block' : 'none';\n",
              "\n",
              "      async function convertToInteractive(key) {\n",
              "        const element = document.querySelector('#df-8367f6d2-a188-4dd6-ac75-7b4f754ba2e2');\n",
              "        const dataTable =\n",
              "          await google.colab.kernel.invokeFunction('convertToInteractive',\n",
              "                                                    [key], {});\n",
              "        if (!dataTable) return;\n",
              "\n",
              "        const docLinkHtml = 'Like what you see? Visit the ' +\n",
              "          '<a target=\"_blank\" href=https://colab.research.google.com/notebooks/data_table.ipynb>data table notebook</a>'\n",
              "          + ' to learn more about interactive tables.';\n",
              "        element.innerHTML = '';\n",
              "        dataTable['output_type'] = 'display_data';\n",
              "        await google.colab.output.renderOutput(dataTable, element);\n",
              "        const docLink = document.createElement('div');\n",
              "        docLink.innerHTML = docLinkHtml;\n",
              "        element.appendChild(docLink);\n",
              "      }\n",
              "    </script>\n",
              "  </div>\n",
              "\n",
              "\n",
              "<div id=\"df-9438bc0b-2577-463a-b245-4611c0591740\">\n",
              "  <button class=\"colab-df-quickchart\" onclick=\"quickchart('df-9438bc0b-2577-463a-b245-4611c0591740')\"\n",
              "            title=\"Suggest charts\"\n",
              "            style=\"display:none;\">\n",
              "\n",
              "<svg xmlns=\"http://www.w3.org/2000/svg\" height=\"24px\"viewBox=\"0 0 24 24\"\n",
              "     width=\"24px\">\n",
              "    <g>\n",
              "        <path d=\"M19 3H5c-1.1 0-2 .9-2 2v14c0 1.1.9 2 2 2h14c1.1 0 2-.9 2-2V5c0-1.1-.9-2-2-2zM9 17H7v-7h2v7zm4 0h-2V7h2v10zm4 0h-2v-4h2v4z\"/>\n",
              "    </g>\n",
              "</svg>\n",
              "  </button>\n",
              "\n",
              "<style>\n",
              "  .colab-df-quickchart {\n",
              "      --bg-color: #E8F0FE;\n",
              "      --fill-color: #1967D2;\n",
              "      --hover-bg-color: #E2EBFA;\n",
              "      --hover-fill-color: #174EA6;\n",
              "      --disabled-fill-color: #AAA;\n",
              "      --disabled-bg-color: #DDD;\n",
              "  }\n",
              "\n",
              "  [theme=dark] .colab-df-quickchart {\n",
              "      --bg-color: #3B4455;\n",
              "      --fill-color: #D2E3FC;\n",
              "      --hover-bg-color: #434B5C;\n",
              "      --hover-fill-color: #FFFFFF;\n",
              "      --disabled-bg-color: #3B4455;\n",
              "      --disabled-fill-color: #666;\n",
              "  }\n",
              "\n",
              "  .colab-df-quickchart {\n",
              "    background-color: var(--bg-color);\n",
              "    border: none;\n",
              "    border-radius: 50%;\n",
              "    cursor: pointer;\n",
              "    display: none;\n",
              "    fill: var(--fill-color);\n",
              "    height: 32px;\n",
              "    padding: 0;\n",
              "    width: 32px;\n",
              "  }\n",
              "\n",
              "  .colab-df-quickchart:hover {\n",
              "    background-color: var(--hover-bg-color);\n",
              "    box-shadow: 0 1px 2px rgba(60, 64, 67, 0.3), 0 1px 3px 1px rgba(60, 64, 67, 0.15);\n",
              "    fill: var(--button-hover-fill-color);\n",
              "  }\n",
              "\n",
              "  .colab-df-quickchart-complete:disabled,\n",
              "  .colab-df-quickchart-complete:disabled:hover {\n",
              "    background-color: var(--disabled-bg-color);\n",
              "    fill: var(--disabled-fill-color);\n",
              "    box-shadow: none;\n",
              "  }\n",
              "\n",
              "  .colab-df-spinner {\n",
              "    border: 2px solid var(--fill-color);\n",
              "    border-color: transparent;\n",
              "    border-bottom-color: var(--fill-color);\n",
              "    animation:\n",
              "      spin 1s steps(1) infinite;\n",
              "  }\n",
              "\n",
              "  @keyframes spin {\n",
              "    0% {\n",
              "      border-color: transparent;\n",
              "      border-bottom-color: var(--fill-color);\n",
              "      border-left-color: var(--fill-color);\n",
              "    }\n",
              "    20% {\n",
              "      border-color: transparent;\n",
              "      border-left-color: var(--fill-color);\n",
              "      border-top-color: var(--fill-color);\n",
              "    }\n",
              "    30% {\n",
              "      border-color: transparent;\n",
              "      border-left-color: var(--fill-color);\n",
              "      border-top-color: var(--fill-color);\n",
              "      border-right-color: var(--fill-color);\n",
              "    }\n",
              "    40% {\n",
              "      border-color: transparent;\n",
              "      border-right-color: var(--fill-color);\n",
              "      border-top-color: var(--fill-color);\n",
              "    }\n",
              "    60% {\n",
              "      border-color: transparent;\n",
              "      border-right-color: var(--fill-color);\n",
              "    }\n",
              "    80% {\n",
              "      border-color: transparent;\n",
              "      border-right-color: var(--fill-color);\n",
              "      border-bottom-color: var(--fill-color);\n",
              "    }\n",
              "    90% {\n",
              "      border-color: transparent;\n",
              "      border-bottom-color: var(--fill-color);\n",
              "    }\n",
              "  }\n",
              "</style>\n",
              "\n",
              "  <script>\n",
              "    async function quickchart(key) {\n",
              "      const quickchartButtonEl =\n",
              "        document.querySelector('#' + key + ' button');\n",
              "      quickchartButtonEl.disabled = true;  // To prevent multiple clicks.\n",
              "      quickchartButtonEl.classList.add('colab-df-spinner');\n",
              "      try {\n",
              "        const charts = await google.colab.kernel.invokeFunction(\n",
              "            'suggestCharts', [key], {});\n",
              "      } catch (error) {\n",
              "        console.error('Error during call to suggestCharts:', error);\n",
              "      }\n",
              "      quickchartButtonEl.classList.remove('colab-df-spinner');\n",
              "      quickchartButtonEl.classList.add('colab-df-quickchart-complete');\n",
              "    }\n",
              "    (() => {\n",
              "      let quickchartButtonEl =\n",
              "        document.querySelector('#df-9438bc0b-2577-463a-b245-4611c0591740 button');\n",
              "      quickchartButtonEl.style.display =\n",
              "        google.colab.kernel.accessAllowed ? 'block' : 'none';\n",
              "    })();\n",
              "  </script>\n",
              "</div>\n",
              "\n",
              "  <div id=\"id_3911157c-6f93-4b94-ad3c-3a9304333fa1\">\n",
              "    <style>\n",
              "      .colab-df-generate {\n",
              "        background-color: #E8F0FE;\n",
              "        border: none;\n",
              "        border-radius: 50%;\n",
              "        cursor: pointer;\n",
              "        display: none;\n",
              "        fill: #1967D2;\n",
              "        height: 32px;\n",
              "        padding: 0 0 0 0;\n",
              "        width: 32px;\n",
              "      }\n",
              "\n",
              "      .colab-df-generate:hover {\n",
              "        background-color: #E2EBFA;\n",
              "        box-shadow: 0px 1px 2px rgba(60, 64, 67, 0.3), 0px 1px 3px 1px rgba(60, 64, 67, 0.15);\n",
              "        fill: #174EA6;\n",
              "      }\n",
              "\n",
              "      [theme=dark] .colab-df-generate {\n",
              "        background-color: #3B4455;\n",
              "        fill: #D2E3FC;\n",
              "      }\n",
              "\n",
              "      [theme=dark] .colab-df-generate:hover {\n",
              "        background-color: #434B5C;\n",
              "        box-shadow: 0px 1px 3px 1px rgba(0, 0, 0, 0.15);\n",
              "        filter: drop-shadow(0px 1px 2px rgba(0, 0, 0, 0.3));\n",
              "        fill: #FFFFFF;\n",
              "      }\n",
              "    </style>\n",
              "    <button class=\"colab-df-generate\" onclick=\"generateWithVariable('df_csv')\"\n",
              "            title=\"Generate code using this dataframe.\"\n",
              "            style=\"display:none;\">\n",
              "\n",
              "  <svg xmlns=\"http://www.w3.org/2000/svg\" height=\"24px\"viewBox=\"0 0 24 24\"\n",
              "       width=\"24px\">\n",
              "    <path d=\"M7,19H8.4L18.45,9,17,7.55,7,17.6ZM5,21V16.75L18.45,3.32a2,2,0,0,1,2.83,0l1.4,1.43a1.91,1.91,0,0,1,.58,1.4,1.91,1.91,0,0,1-.58,1.4L9.25,21ZM18.45,9,17,7.55Zm-12,3A5.31,5.31,0,0,0,4.9,8.1,5.31,5.31,0,0,0,1,6.5,5.31,5.31,0,0,0,4.9,4.9,5.31,5.31,0,0,0,6.5,1,5.31,5.31,0,0,0,8.1,4.9,5.31,5.31,0,0,0,12,6.5,5.46,5.46,0,0,0,6.5,12Z\"/>\n",
              "  </svg>\n",
              "    </button>\n",
              "    <script>\n",
              "      (() => {\n",
              "      const buttonEl =\n",
              "        document.querySelector('#id_3911157c-6f93-4b94-ad3c-3a9304333fa1 button.colab-df-generate');\n",
              "      buttonEl.style.display =\n",
              "        google.colab.kernel.accessAllowed ? 'block' : 'none';\n",
              "\n",
              "      buttonEl.onclick = () => {\n",
              "        google.colab.notebook.generateWithVariable('df_csv');\n",
              "      }\n",
              "      })();\n",
              "    </script>\n",
              "  </div>\n",
              "\n",
              "    </div>\n",
              "  </div>\n"
            ],
            "application/vnd.google.colaboratory.intrinsic+json": {
              "type": "dataframe",
              "variable_name": "df_csv",
              "summary": "{\n  \"name\": \"df_csv\",\n  \"rows\": 5,\n  \"fields\": [\n    {\n      \"column\": \"Username\",\n      \"properties\": {\n        \"dtype\": \"string\",\n        \"num_unique_values\": 5,\n        \"samples\": [\n          \"grey07\",\n          \"smith79\",\n          \"johnson81\"\n        ],\n        \"semantic_type\": \"\",\n        \"description\": \"\"\n      }\n    },\n    {\n      \"column\": \" Identifier\",\n      \"properties\": {\n        \"dtype\": \"number\",\n        \"std\": 3170,\n        \"min\": 2070,\n        \"max\": 9346,\n        \"num_unique_values\": 5,\n        \"samples\": [\n          2070,\n          5079,\n          4081\n        ],\n        \"semantic_type\": \"\",\n        \"description\": \"\"\n      }\n    },\n    {\n      \"column\": \"First name\",\n      \"properties\": {\n        \"dtype\": \"string\",\n        \"num_unique_values\": 5,\n        \"samples\": [\n          \"Laura\",\n          \"Jamie\",\n          \"Craig\"\n        ],\n        \"semantic_type\": \"\",\n        \"description\": \"\"\n      }\n    },\n    {\n      \"column\": \"Last name\",\n      \"properties\": {\n        \"dtype\": \"string\",\n        \"num_unique_values\": 5,\n        \"samples\": [\n          \"Grey\",\n          \"Smith\",\n          \"Johnson\"\n        ],\n        \"semantic_type\": \"\",\n        \"description\": \"\"\n      }\n    }\n  ]\n}"
            }
          },
          "metadata": {},
          "execution_count": 14
        }
      ]
    },
    {
      "cell_type": "code",
      "source": [
        "df = pd.read_csv('output_data.csv')\n",
        "print(df)"
      ],
      "metadata": {
        "colab": {
          "base_uri": "https://localhost:8080/"
        },
        "id": "Br0woOFWjXwY",
        "outputId": "06f350ea-59e2-4e06-c9cc-c8179a93a645"
      },
      "execution_count": null,
      "outputs": [
        {
          "output_type": "stream",
          "name": "stdout",
          "text": [
            "    Username   Identifier First name Last name\n",
            "0   booker12         9012     Rachel    Booker\n",
            "1     grey07         2070      Laura      Grey\n",
            "2  johnson81         4081      Craig   Johnson\n",
            "3  jenkins46         9346       Mary   Jenkins\n",
            "4    smith79         5079      Jamie     Smith\n"
          ]
        }
      ]
    },
    {
      "cell_type": "markdown",
      "source": [
        "# 5. Working with JSON Data:\n",
        "JSON (JavaScript Object Notation):\n",
        "* JSON is a lightweight data interchange format that is easy for humans to read and write. It's also easy for machines to parse and generate.\n",
        "\n",
        "Working with JSON in Python:\n",
        "* The json module in Python provides methods for encoding and decoding JSON data.\n",
        "\n",
        "Key Points:\n",
        "* JSON is commonly used for data exchange between a web server and a web client.\n",
        "* Python's json module facilitates the conversion between JSON and Python data structures.\n"
      ],
      "metadata": {
        "id": "MBZUuB1KViFX"
      }
    },
    {
      "cell_type": "markdown",
      "source": [
        "####If your JSON code is not in a file, but in a Python Dictionary, you can load it into a DataFrame directly:"
      ],
      "metadata": {
        "id": "XIaLzoRdkEmG"
      }
    },
    {
      "cell_type": "code",
      "source": [
        "import pandas as pd\n",
        "\n",
        "data = {\n",
        "  \"Duration\":{\n",
        "    \"0\":60,\n",
        "    \"1\":60,\n",
        "    \"2\":60,\n",
        "    \"3\":45,\n",
        "    \"4\":45,\n",
        "    \"5\":60\n",
        "  },\n",
        "  \"Pulse\":{\n",
        "    \"0\":110,\n",
        "    \"1\":117,\n",
        "    \"2\":103,\n",
        "    \"3\":109,\n",
        "    \"4\":117,\n",
        "    \"5\":102\n",
        "  },\n",
        "  \"Maxpulse\":{\n",
        "    \"0\":130,\n",
        "    \"1\":145,\n",
        "    \"2\":135,\n",
        "    \"3\":175,\n",
        "    \"4\":148,\n",
        "    \"5\":127\n",
        "  },\n",
        "  \"Calories\":{\n",
        "    \"0\":409,\n",
        "    \"1\":479,\n",
        "    \"2\":340,\n",
        "    \"3\":282,\n",
        "    \"4\":406,\n",
        "    \"5\":300\n",
        "  }\n",
        "}\n",
        "\n",
        "df = pd.DataFrame(data)\n",
        "\n",
        "print(df)"
      ],
      "metadata": {
        "colab": {
          "base_uri": "https://localhost:8080/"
        },
        "id": "LVmFLXl0kTPQ",
        "outputId": "0306e6b7-35cd-4664-be2f-f74c02cdd74e"
      },
      "execution_count": null,
      "outputs": [
        {
          "output_type": "stream",
          "name": "stdout",
          "text": [
            "   Duration  Pulse  Maxpulse  Calories\n",
            "0        60    110       130       409\n",
            "1        60    117       145       479\n",
            "2        60    103       135       340\n",
            "3        45    109       175       282\n",
            "4        45    117       148       406\n",
            "5        60    102       127       300\n"
          ]
        }
      ]
    },
    {
      "cell_type": "code",
      "source": [
        "# Program to demonstrate working with JSON data using pandas\n",
        "\n",
        "import pandas as pd\n",
        "import json\n",
        "\n",
        "# Sample JSON data\n",
        "json_data = '{\"Name\": \"John\", \"Age\": 25, \"City\": \"New York\"}'\n",
        "\n",
        "# Loading JSON data into a DataFrame\n",
        "df_json = pd.read_json(json_data, orient='index').transpose()\n",
        "\n",
        "# Displaying the DataFrame\n",
        "print(\"JSON Data:\")\n",
        "print(df_json)\n",
        "\n",
        "# Converting DataFrame back to JSON\n",
        "json_output = df_json.to_json(orient='records', lines=True)\n",
        "parsed_json = json.loads(json_output)\n",
        "\n",
        "# Displaying the converted JSON data\n",
        "print(\"\\nConverted JSON Data:\")\n",
        "print(json.dumps(parsed_json, indent=2))\n"
      ],
      "metadata": {
        "colab": {
          "base_uri": "https://localhost:8080/"
        },
        "id": "r-5E0KfLWFeb",
        "outputId": "7b59c86a-63b6-480f-cca4-fc7c9a567baf"
      },
      "execution_count": null,
      "outputs": [
        {
          "output_type": "stream",
          "name": "stdout",
          "text": [
            "JSON Data:\n",
            "   Name Age      City\n",
            "0  John  25  New York\n",
            "\n",
            "Converted JSON Data:\n",
            "{\n",
            "  \"Name\": \"John\",\n",
            "  \"Age\": 25,\n",
            "  \"City\": \"New York\"\n",
            "}\n"
          ]
        }
      ]
    },
    {
      "cell_type": "markdown",
      "source": [
        "#6. Analysis of Data:\n",
        "Data Analysis in Python:\n",
        "* Data analysis involves inspecting, cleaning, transforming, and modeling data to discover useful information, draw conclusions, and support decision-making. Python provides several libraries for data analysis, including pandas, numpy, and matplotlib.\n",
        "\n",
        "##Steps in Data Analysis:\n",
        "* Data Collection: Gather relevant data from various sources.\n",
        "* Data Cleaning: Clean and preprocess the data to handle missing values, outliers, etc.\n",
        "* Exploratory Data Analysis (EDA): Understand the data's characteristics through statistical and visual methods.\n",
        "* Feature Engineering: Create new features or transform existing ones to improve model performance.\n",
        "* Modeling: Apply statistical or machine learning models to make predictions or draw insights.\n",
        "* Evaluation: Assess the model's performance and refine as needed.\n",
        "* Visualization: Communicate findings through visual representations using tools like matplotlib and seaborn.\n"
      ],
      "metadata": {
        "id": "v9Y67WGWWKk5"
      }
    },
    {
      "cell_type": "code",
      "source": [
        "# Program to demonstrate basic data analysis using pandas\n",
        "\n",
        "import pandas as pd\n",
        "\n",
        "# Sample data for analysis\n",
        "data = {'Name': ['John', 'Alice', 'Bob'],\n",
        "        'Age': [25, 30, 22],\n",
        "        'City': ['New York', 'San Francisco', 'Los Angeles'],\n",
        "        'Salary': [60000, 80000, 45000]}\n",
        "\n",
        "# Creating a DataFrame\n",
        "df = pd.DataFrame(data)\n",
        "\n",
        "# Displaying basic statistics of the data\n",
        "print(\"Basic Statistics:\")\n",
        "print(df.describe())\n",
        "\n",
        "# Calculating the mean of specific columns\n",
        "mean_salary = df['Salary'].mean()\n",
        "print(\"\\nMean Salary:\", mean_salary)"
      ],
      "metadata": {
        "colab": {
          "base_uri": "https://localhost:8080/"
        },
        "id": "ZEp7fKp5ZUQi",
        "outputId": "97b57bc0-d0b8-4900-9769-29d1ecbe3bfe"
      },
      "execution_count": null,
      "outputs": [
        {
          "output_type": "stream",
          "name": "stdout",
          "text": [
            "Basic Statistics:\n",
            "             Age        Salary\n",
            "count   3.000000      3.000000\n",
            "mean   25.666667  61666.666667\n",
            "std     4.041452  17559.422921\n",
            "min    22.000000  45000.000000\n",
            "25%    23.500000  52500.000000\n",
            "50%    25.000000  60000.000000\n",
            "75%    27.500000  70000.000000\n",
            "max    30.000000  80000.000000\n",
            "\n",
            "Mean Salary: 61666.666666666664\n"
          ]
        }
      ]
    },
    {
      "cell_type": "markdown",
      "source": [
        "#7. Cleaning Data:\n",
        "Data Cleaning in Python:\n",
        "* Data cleaning is the process of identifying and correcting errors or inconsistencies in datasets.\n",
        "* Common tasks include handling missing values, removing duplicates, and dealing with outliers.\n",
        "\n",
        "Steps in Data Cleaning:\n",
        "* Handling Missing Data: Address missing values by removing or imputing them.\n",
        "* Removing Duplicates: Identify and remove duplicate records.\n",
        "* Handling Outliers: Detect and handle outliers that may skew analyses or models.\n",
        "* Data Transformation: Convert data types, scale features, or perform other transformations.\n",
        "* Standardizing/Normalizing Data: Ensure consistency and comparability by scaling data.\n",
        "* Handling Inconsistent Data: Correct inconsistent or erroneous values.\n"
      ],
      "metadata": {
        "id": "MxMbVurPZbRV"
      }
    },
    {
      "cell_type": "code",
      "source": [
        "# Program to demonstrate data cleaning using pandas\n",
        "\n",
        "import pandas as pd\n",
        "\n",
        "# Sample data with missing values\n",
        "data = {'Name': ['John', 'Alice', 'Bob', 'Eva'],\n",
        "        'Age': [25, None, 22, 28],\n",
        "        'City': ['New York', 'San Francisco', None, 'Los Angeles'],\n",
        "        'Salary': [60000, 80000, 45000, None]}\n",
        "\n",
        "# Creating a DataFrame with missing values\n",
        "df = pd.DataFrame(data)\n",
        "\n",
        "# Displaying the DataFrame with missing values\n",
        "print(\"Original DataFrame:\")\n",
        "print(df)\n",
        "\n",
        "# Handling missing values (e.g., filling missing values with the mean)\n",
        "df_cleaned = df.fillna(df['Salary'].mean())\n",
        "\n",
        "# Displaying the cleaned DataFrame\n",
        "print(\"\\nCleaned DataFrame:\")\n",
        "print(df_cleaned)"
      ],
      "metadata": {
        "colab": {
          "base_uri": "https://localhost:8080/"
        },
        "id": "NdGwycnAZ0ph",
        "outputId": "d3e10c24-6fcc-48cb-e127-7a75cbf95700"
      },
      "execution_count": null,
      "outputs": [
        {
          "output_type": "stream",
          "name": "stdout",
          "text": [
            "Original DataFrame:\n",
            "    Name   Age           City   Salary\n",
            "0   John  25.0       New York  60000.0\n",
            "1  Alice   NaN  San Francisco  80000.0\n",
            "2    Bob  22.0           None  45000.0\n",
            "3    Eva  28.0    Los Angeles      NaN\n",
            "\n",
            "Cleaned DataFrame:\n",
            "    Name           Age           City        Salary\n",
            "0   John     25.000000       New York  60000.000000\n",
            "1  Alice  61666.666667  San Francisco  80000.000000\n",
            "2    Bob     22.000000   61666.666667  45000.000000\n",
            "3    Eva     28.000000    Los Angeles  61666.666667\n"
          ]
        }
      ]
    },
    {
      "cell_type": "markdown",
      "source": [
        "#Project Idea: Data Analysis of Sales Records\n",
        "\n",
        "###Objective:\n",
        "To analyze sales records data using NumPy and Pandas to derive insights and visualize trends.\n",
        "\n",
        "###Steps:\n",
        "\n",
        "1. Data Acquisition:\n",
        "Obtain a dataset containing sales records. You can find datasets on platforms like Kaggle, or use simulated data for practice.\n",
        "\n",
        "2. Data Preprocessing:\n",
        "* Load the dataset into a Pandas DataFrame.\n",
        "* Check for missing values and handle them appropriately (either by imputation or removal).\n",
        "* Clean the data by handling inconsistencies, duplicates, and outliers.\n",
        "* Convert data types if necessary.\n",
        "\n",
        "3. Data Analysis:\n",
        "* Use NumPy and Pandas operations to compute various statistics such as total sales, average sales, maximum and minimum sales, etc.\n",
        "* Explore trends over time (if applicable) by grouping data based on dates, months, or years.\n",
        "* Analyze sales by different categories such as product type, region, or customer segment.\n",
        "\n",
        "4. Visualization:\n",
        "8 Utilize libraries like Matplotlib or Seaborn to create visualizations such as line plots, bar charts, pie charts, and histograms to represent sales trends and distributions.\n",
        "8 Visualize the relationships between different variables using scatter plots or heatmaps.\n",
        "\n",
        "5. Advanced Analysis (Optional):\n",
        "* Perform time series analysis if the data contains timestamps.\n",
        "* Conduct correlation analysis to identify relationships between different variables.\n",
        "* Apply machine learning algorithms for sales forecasting or customer segmentation.\n",
        "\n",
        "6. Conclusion and Insights:\n",
        "\n",
        "* Summarize the findings from the analysis.\n",
        "* Provide actionable insights based on the analysis results.\n",
        "* Discuss any recommendations or further steps based on the insights gained."
      ],
      "metadata": {
        "id": "w2QS4xKYlxv-"
      }
    },
    {
      "cell_type": "code",
      "source": [
        "df = pd.read_csv('sales.csv')\n",
        "print(df)"
      ],
      "metadata": {
        "colab": {
          "base_uri": "https://localhost:8080/"
        },
        "id": "Xv4hCi72qHJb",
        "outputId": "2e85f535-71a7-4c64-cd86-74fa7059c39a"
      },
      "execution_count": null,
      "outputs": [
        {
          "output_type": "stream",
          "name": "stdout",
          "text": [
            "         Date   Product   Region  Sales\n",
            "0  2023-01-01  ProductA  Region1   1000\n",
            "1  2023-01-02  ProductB  Region2   1500\n",
            "2  2023-01-03  ProductC  Region1   2000\n",
            "3  2023-01-04  ProductA  Region2   1200\n",
            "4  2023-01-05  ProductB  Region1   1800\n",
            "5  2023-01-06  ProductC  Region2   2100\n",
            "6  2023-01-07  ProductA  Region1   1100\n",
            "7  2023-01-08  ProductB  Region2   1600\n",
            "8  2023-01-09  ProductC  Region1   2200\n",
            "9  2023-01-10  ProductA  Region2   1300\n"
          ]
        }
      ]
    },
    {
      "cell_type": "markdown",
      "source": [
        "#Data Analysis of Sales Records"
      ],
      "metadata": {
        "id": "e8LzE9beGQb1"
      }
    },
    {
      "cell_type": "code",
      "source": [
        "import pandas as pd\n",
        "import numpy as np\n",
        "import matplotlib.pyplot as plt\n",
        "import seaborn as sns\n",
        "\n",
        "# Step 1: Data Acquisition\n",
        "# Load the dataset into a Pandas DataFrame\n",
        "sales_data = pd.read_csv('sales.csv')\n",
        "\n",
        "# Step 2: Data Preprocessing\n",
        "# Check for missing values and handle them\n",
        "sales_data.dropna(inplace=True)\n",
        "\n",
        "'''If \"inplace=False\" or if the \"inplace\" parameter is not specified (it defaults to \"False\"),\n",
        "then a new DataFrame with missing values removed would be returned, and the original DataFrame\n",
        "(\"sales_data\" in this case) would remain unchanged.'''\n",
        "\n",
        "\n",
        "# Clean the data\n",
        "# For example, remove duplicates\n",
        "sales_data.drop_duplicates(inplace=True)\n",
        "\n",
        "# Step 3: Data Analysis\n",
        "# Compute total sales\n",
        "total_sales = sales_data['Sales'].sum()\n",
        "\n",
        "# Compute average sales\n",
        "average_sales = sales_data['Sales'].mean()\n",
        "\n",
        "# Compute maximum and minimum sales\n",
        "max_sales = sales_data['Sales'].max()\n",
        "min_sales = sales_data['Sales'].min()\n",
        "\n",
        "# Analyze sales by different categories\n",
        "sales_by_product = sales_data.groupby('Product')['Sales'].sum()\n",
        "sales_by_region = sales_data.groupby('Region')['Sales'].sum()\n",
        "\n",
        "#Visualizes total sales by product using a bar plot ('(sales_by_product.plot()').\n",
        "#Visualizes total sales by region using a pie chart ('(sales_by_region.plot()').\n",
        "\n",
        "# Step 4: Visualization\n",
        "# Visualize total sales by product using a bar plot\n",
        "sales_by_product.plot(kind='bar', xlabel='Product', ylabel='Total Sales', title='Total Sales by Product')\n",
        "plt.xticks(rotation=45)\n",
        "plt.show()\n",
        "\n",
        "'''plt.xticks(rotation=45):\n",
        "This line sets the rotation angle of the x-axis labels to 45 degrees, which helps to prevent overlap when\n",
        "the labels are long or numerous. It ensures that the product names on the x-axis are readable.'''\n",
        "\n",
        "# Visualize total sales by region using a pie chart\n",
        "sales_by_region.plot(kind='pie', autopct='%1.1f%%', ylabel='', title='Total Sales by Region')\n",
        "plt.show()\n",
        "'''autopct='%1.1f%%': Specifies the format for displaying the percentages on the pie chart. %1.1f%% means\n",
        "to display percentages with one decimal place'''\n",
        "\n",
        "# Step 5: Advanced Analysis (Optional)\n",
        "# Example: Time series analysis if the data contains timestamps\n",
        "\n",
        "# Step 6: Conclusion and Insights\n",
        "# Print summary statistics\n",
        "print(f'Total Sales: {total_sales}')\n",
        "print(f'Average Sales: {average_sales}')\n",
        "print(f'Maximum Sales: {max_sales}')\n",
        "print(f'Minimum Sales: {min_sales}')\n",
        "\n",
        "# Provide actionable insights based on the analysis\n",
        "# For example, identify top-selling products or regions\n",
        "\n",
        "# Save the cleaned data\n",
        "sales_data.to_csv('cleaned_sales_data.csv', index=False)\n"
      ],
      "metadata": {
        "colab": {
          "base_uri": "https://localhost:8080/",
          "height": 992
        },
        "id": "IfY4Npj_daEu",
        "outputId": "5f503ea9-78c9-46fd-da5e-d03ec4380975"
      },
      "execution_count": null,
      "outputs": [
        {
          "output_type": "display_data",
          "data": {
            "text/plain": [
              "<Figure size 640x480 with 1 Axes>"
            ],
            "image/png": "[encoded data removed]"
          },
          "metadata": {}
        },
        {
          "output_type": "display_data",
          "data": {
            "text/plain": [
              "<Figure size 640x480 with 1 Axes>"
            ],
            "image/png": "[encoded data removed]"
          },
          "metadata": {}
        },
        {
          "output_type": "stream",
          "name": "stdout",
          "text": [
            "Total Sales: 15800\n",
            "Average Sales: 1580.0\n",
            "Maximum Sales: 2200\n",
            "Minimum Sales: 1000\n"
          ]
        }
      ]
    },
    {
      "cell_type": "code",
      "source": [
        "df = pd.read_csv('cleaned_sales_data.csv')\n",
        "print(df)"
      ],
      "metadata": {
        "colab": {
          "base_uri": "https://localhost:8080/"
        },
        "id": "MrPmPhTspzJO",
        "outputId": "07f90453-6777-4f2d-e908-234d684cc227"
      },
      "execution_count": null,
      "outputs": [
        {
          "output_type": "stream",
          "name": "stdout",
          "text": [
            "         Date   Product   Region  Sales\n",
            "0  2023-01-01  ProductA  Region1   1000\n",
            "1  2023-01-02  ProductB  Region2   1500\n",
            "2  2023-01-03  ProductC  Region1   2000\n",
            "3  2023-01-04  ProductA  Region2   1200\n",
            "4  2023-01-05  ProductB  Region1   1800\n",
            "5  2023-01-06  ProductC  Region2   2100\n",
            "6  2023-01-07  ProductA  Region1   1100\n",
            "7  2023-01-08  ProductB  Region2   1600\n",
            "8  2023-01-09  ProductC  Region1   2200\n",
            "9  2023-01-10  ProductA  Region2   1300\n"
          ]
        }
      ]
    }
  ]
}